{
 "cells": [
  {
   "cell_type": "markdown",
   "metadata": {},
   "source": [
    "### UMAP parameter 조정\n",
    "- `n_components`: 축소할 차원의 수.\n",
    "- `n_neighbors`: 각 데이터 포인트에 대한 근접 이웃의 수 \n",
    "  - (클수록 전반적인 구조 잘 반영, 작을수록 국부적 구조 잘 반영)\n",
    "- `min_dist`: 임베딩 공간에서 최소 거리. 클러스터의 밀도에 영향을 미침 \n",
    "  - (작을수록 클러스터가 더 조밀하게 모이고, 클수록 분산) \n",
    "- def reduce_dimensions_umap(embeddings, n_components=3,  n_neighbors=20, min_dist=0.3):  "
   ]
  },
  {
   "cell_type": "markdown",
   "metadata": {},
   "source": [
    "<div style=\"display: flex; \">\n",
    "  <img src=\"./results/UMAP/UMAP1.png\" alt=\"./results/UMAP/UMAP1.png\" width=\"300\"/>\n",
    "  <img src=\"./results/UMAP/UMAP2.png\" alt=\"./results/UMAP/UMAP2.png\" width=\"300\"/>\n",
    "  <img src=\"./results/UMAP/UMAP3.png\" alt=\"./results/UMAP/UMAP3.png\" width=\"300\"/>\n",
    "  <img src=\"./results/UMAP/UMAP4.png\" alt=\"./results/UMAP/UMAP4.png\" width=\"300\"/>\n",
    "</div>"
   ]
  }
 ],
 "metadata": {
  "language_info": {
   "name": "python"
  }
 },
 "nbformat": 4,
 "nbformat_minor": 2
}
