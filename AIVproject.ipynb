{
 "cells": [
  {
   "cell_type": "markdown",
   "metadata": {},
   "source": [
    "# Image embedding feature extraction & Image comparison"
   ]
  },
  {
   "cell_type": "markdown",
   "metadata": {},
   "source": [
    "### [ 기능적 요구사항 ] \n",
    "1. emdedding 기능\n",
    "   1. CPU에서 동작 가능\n",
    "   2. 이미지 사이즈 관계 없이 동작\n",
    "   3. embedding vector의 차원 수 제한x but 유사도 검색 시 성능 저하 발생 x, 유사도 분류될 수 있을 수준 \n",
    "2. 유사도 검색\n",
    "   1. vector database 활용해 이미지 유사도 검색 가능해야 함\n",
    "      - cosine similarity\n",
    "   2. 같은 그룹의 이미지끼리 유사도 높고, 다른 그룹 이미지 유사도 낮아 -> 분류기의 기능 동작  \n",
    "3. 시각화 위한 2D projection\n",
    "   - 고차원의 vector dataset을 시각화하여 확인 위해 2D projection 지원\n",
    "\n",
    "### [ 비기능적 요구사항 ]\n",
    "1. 성능\n",
    "   1. embedding\n",
    "      1. 이미지 크기 별 임베딩 시간 분석 (1024x1024 기준 50msec 이하)\n",
    "      2. 임베딩 벡터의 차원 수 제한 x but 유사도 검색 시 성능 저하 발생 x, 유사도 분류될 수 있을 수준   \n",
    "         - dimension에 따른 유사도 검색 시간, 검색 정확도 분석\n",
    "   2. 유사도\n",
    "      1. dataset 10,000, 100,000 각각의 데이터셋 사이즈에 따른 유사도 검색 시간 분석\n",
    "2. 보안\n",
    "3. 가용성\n",
    "   1. 임베딩, 유사도 검색 진행으로 인해 다른 API 요청이 blocking 되어선 x\n",
    "4. 사용성\n",
    "   1. 개발 언어 상관x but node.js, go 환경에서 호출이 가능해야 함\n",
    "   2. Docker 환경에서 구동되어야 함\n",
    "\n",
    "### [데이터 요구사항]\n",
    "1. open source database 사용할 것\n",
    "\n",
    "### [시스템 제약 사항]\n",
    "1. 하드웨어 제약 : GPU 사용할 수 x\n",
    "\n",
    "### [품질 요구사항]\n",
    "1. 코드 품질\n",
    "2. 테스트 전략\n",
    "   1. 기능별 unit test case 확보 -> code coverage 60% 이상 확보\n",
    "3. 유지보수성\n",
    "   1. 유지 보수 가능한 코드 품질\n",
    "   2. 의미 있는 변수명, 함수명\n",
    "   3. 하나의 함수 길이 - 스크롤 없이 확인 가능\n",
    "   4. 추상화된 클래스 상속받는 형태로 기능 구현 - 추후 확장성 고려"
   ]
  },
  {
   "cell_type": "markdown",
   "metadata": {},
   "source": [
    "## 프로젝트 일정 및 일정 계획\n",
    "1. 프로젝트 일정 : 2024년 6월 3일 ~ 2024년 7월 31일\n",
    "2. 개발 단계 : 초기 한 달간 - embedding 알고리즘 구현 및 검증, 이후 한달간 - 서비스에 적용 및 테스트\n",
    "3. 테스트 단계 : 개발 단계에 포함\n",
    "4. 유지보수 단계 : 기존 팀원들이 이어서 진행"
   ]
  },
  {
   "cell_type": "markdown",
   "metadata": {},
   "source": [
    "### 참조 \n",
    "[ Embedding ](https://www.syncly.kr/blog/what-is-embedding-and-how-to-use)\n",
    "\n",
    "[ Scatter Filter ](https://ko.docs.superb-ai.com/docs/scatter-filter)\n",
    "\n",
    "[ Auto-Curate ](https://ko.docs.superb-ai.com/docs/auto-curate)"
   ]
  },
  {
   "cell_type": "code",
   "execution_count": 26,
   "metadata": {},
   "outputs": [
    {
     "name": "stdout",
     "output_type": "stream",
     "text": [
      "\u001b[1m1/1\u001b[0m \u001b[32m━━━━━━━━━━━━━━━━━━━━\u001b[0m\u001b[37m\u001b[0m \u001b[1m2s\u001b[0m 2s/step\n",
      "[-0.2736509  -0.26110074  0.5497928  ... -0.27174938 -0.27845186\n",
      " -0.27269047]\n"
     ]
    }
   ],
   "source": [
    "import numpy as np\n",
    "from tensorflow.keras.applications.efficientnet import EfficientNetB0, preprocess_input\n",
    "from tensorflow.keras.preprocessing import image\n",
    "from tensorflow.keras.models import Model\n",
    "\n",
    "# 사전 학습된 EfficientNetB0 모델 로컬 파일 경로 지정\n",
    "local_weights_path = '../efficientnetb0.h5'\n",
    "\n",
    "base_model = EfficientNetB0(weights=None)\n",
    "base_model.load_weights(local_weights_path)\n",
    "model = Model(inputs=base_model.input, outputs=base_model.get_layer('top_activation').output)\n",
    "\n",
    "def extract_features(img_path):\n",
    "    img = image.load_img(img_path, target_size=(224, 224))\n",
    "    img_data = image.img_to_array(img)\n",
    "    img_data = np.expand_dims(img_data, axis=0)\n",
    "    img_data = preprocess_input(img_data)\n",
    "    \n",
    "    features = model.predict(img_data)\n",
    "    return features.flatten()\n",
    "\n",
    "# 예제 이미지의 feature 추출\n",
    "features = extract_features('test_images/cat.jpg')\n",
    "print(features)\n"
   ]
  },
  {
   "cell_type": "code",
   "execution_count": 29,
   "metadata": {},
   "outputs": [
    {
     "name": "stdout",
     "output_type": "stream",
     "text": [
      "\u001b[1m1/1\u001b[0m \u001b[32m━━━━━━━━━━━━━━━━━━━━\u001b[0m\u001b[37m\u001b[0m \u001b[1m0s\u001b[0m 131ms/step\n",
      "\u001b[1m1/1\u001b[0m \u001b[32m━━━━━━━━━━━━━━━━━━━━\u001b[0m\u001b[37m\u001b[0m \u001b[1m0s\u001b[0m 101ms/step\n",
      "\u001b[1m1/1\u001b[0m \u001b[32m━━━━━━━━━━━━━━━━━━━━\u001b[0m\u001b[37m\u001b[0m \u001b[1m0s\u001b[0m 87ms/step\n",
      "[[0.9999999  0.32229006 0.10640822]\n",
      " [0.32229006 1.0000013  0.02936372]\n",
      " [0.10640822 0.02936372 1.0000038 ]]\n"
     ]
    }
   ],
   "source": [
    "from sklearn.metrics.pairwise import cosine_similarity\n",
    "\n",
    "# 예제 이미지들의 feature 벡터\n",
    "image_features = [extract_features('test_images/face.jpg'), extract_features('test_images/face2.jpg'), extract_features('test_images/catdog.jpg')]\n",
    "\n",
    "# 코사인 유사도 계산\n",
    "similarity_matrix = cosine_similarity(image_features)\n",
    "\n",
    "print(similarity_matrix)\n"
   ]
  },
  {
   "cell_type": "code",
   "execution_count": null,
   "metadata": {},
   "outputs": [],
   "source": [
    "import matplotlib.pyplot as plt\n",
    "from sklearn.manifold import TSNE\n",
    "\n",
    "# t-SNE를 사용한 2D 시각화\n",
    "tsne = TSNE(n_components=2, random_state=0)\n",
    "tsne_results = tsne.fit_transform(image_features)\n",
    "\n",
    "plt.figure(figsize=(8, 6))\n",
    "plt.scatter(tsne_results[:, 0], tsne_results[:, 1])\n",
    "for i, txt in enumerate(['image1', 'image2', 'image3']):\n",
    "    plt.annotate(txt, (tsne_results[i, 0], tsne_results[i, 1]))\n",
    "plt.show()\n"
   ]
  },
  {
   "cell_type": "code",
   "execution_count": 37,
   "metadata": {},
   "outputs": [
    {
     "name": "stdout",
     "output_type": "stream",
     "text": [
      "WARNING:tensorflow:5 out of the last 20 calls to <function TensorFlowTrainer.make_predict_function.<locals>.one_step_on_data_distributed at 0x18ba85480> triggered tf.function retracing. Tracing is expensive and the excessive number of tracings could be due to (1) creating @tf.function repeatedly in a loop, (2) passing tensors with different shapes, (3) passing Python objects instead of tensors. For (1), please define your @tf.function outside of the loop. For (2), @tf.function has reduce_retracing=True option that can avoid unnecessary retracing. For (3), please refer to https://www.tensorflow.org/guide/function#controlling_retracing and https://www.tensorflow.org/api_docs/python/tf/function for  more details.\n",
      "\u001b[1m1/1\u001b[0m \u001b[32m━━━━━━━━━━━━━━━━━━━━\u001b[0m\u001b[37m\u001b[0m \u001b[1m3s\u001b[0m 3s/step\n",
      "\u001b[1m1/1\u001b[0m \u001b[32m━━━━━━━━━━━━━━━━━━━━\u001b[0m\u001b[37m\u001b[0m \u001b[1m0s\u001b[0m 82ms/step\n",
      "\u001b[1m1/1\u001b[0m \u001b[32m━━━━━━━━━━━━━━━━━━━━\u001b[0m\u001b[37m\u001b[0m \u001b[1m0s\u001b[0m 87ms/step\n",
      "Indices of most similar images: [[0 1 2]]\n",
      "Distances to most similar images: [[    0.    41768.285 54554.266]]\n"
     ]
    },
    {
     "data": {
      "image/png": "[encoded data removed]",
      "text/plain": [
       "<Figure size 800x600 with 1 Axes>"
      ]
     },
     "metadata": {},
     "output_type": "display_data"
    }
   ],
   "source": [
    "import ssl\n",
    "ssl._create_default_https_context = ssl._create_unverified_context\n",
    "\n",
    "from tensorflow.keras.applications.efficientnet import EfficientNetB0, preprocess_input\n",
    "from tensorflow.keras.preprocessing import image\n",
    "from tensorflow.keras.models import Model\n",
    "import numpy as np\n",
    "import faiss\n",
    "from sklearn.manifold import TSNE\n",
    "import matplotlib.pyplot as plt\n",
    "from sklearn.metrics.pairwise import cosine_similarity\n",
    "\n",
    "# 사전 학습된 EfficientNetB0 모델 불러오기 (마지막 레이어를 제거하여 feature extractor로 사용)\n",
    "base_model = EfficientNetB0(weights='imagenet')\n",
    "model = Model(inputs=base_model.input, outputs=base_model.get_layer('top_activation').output)\n",
    "\n",
    "def extract_features(img_path):\n",
    "    img = image.load_img(img_path, target_size=(224, 224))\n",
    "    img_data = image.img_to_array(img)\n",
    "    img_data = np.expand_dims(img_data, axis=0)\n",
    "    img_data = preprocess_input(img_data)\n",
    "    \n",
    "    features = model.predict(img_data)\n",
    "    return features.flatten()\n",
    "\n",
    "# 예제 이미지들의 feature 벡터\n",
    "image_features = np.array([\n",
    "    extract_features('test_images/face.jpg'), \n",
    "    extract_features('test_images/face2.jpg'), \n",
    "    extract_features('test_images/catdog.jpg')\n",
    "])\n",
    "\n",
    "# FAISS 인덱스 생성 및 feature 벡터 추가\n",
    "d = image_features.shape[1]  # feature 벡터의 차원 수\n",
    "index = faiss.IndexFlatL2(d)  # L2 거리 기반의 인덱스\n",
    "index.add(image_features)  # feature 벡터를 인덱스에 추가\n",
    "\n",
    "# 검색할 쿼리 벡터 (예시로 첫 번째 이미지 사용)\n",
    "query_vector = image_features[0].reshape(1, -1)\n",
    "\n",
    "# 가장 유사한 이미지 검색\n",
    "k = 3  # 검색할 이미지 개수\n",
    "distances, indices = index.search(query_vector, k)\n",
    "\n",
    "print(\"Indices of most similar images:\", indices)\n",
    "print(\"Distances to most similar images:\", distances)\n",
    "\n",
    "# t-SNE를 사용한 2D 시각화\n",
    "tsne = TSNE(n_components=2, perplexity=2, random_state=0)  # perplexity를 2로 설정\n",
    "tsne_results = tsne.fit_transform(image_features)\n",
    "\n",
    "# 시각화를 위한 이미지 이름 리스트\n",
    "image_names = ['cat', 'face', 'cat2']\n",
    "\n",
    "plt.figure(figsize=(8, 6))\n",
    "plt.scatter(tsne_results[:, 0], tsne_results[:, 1])\n",
    "for i, txt in enumerate(image_names):\n",
    "    plt.annotate(txt, (tsne_results[i, 0], tsne_results[i, 1]))\n",
    "plt.xlabel('Dimension 1')\n",
    "plt.ylabel('Dimension 2')\n",
    "plt.title('2D Visualization of Image Features using t-SNE')\n",
    "plt.show()\n"
   ]
  },
  {
   "cell_type": "markdown",
   "metadata": {},
   "source": [
    "## 6/4 "
   ]
  },
  {
   "cell_type": "code",
   "execution_count": null,
   "metadata": {},
   "outputs": [],
   "source": [
    "import torch\n",
    "import torchvision.transforms as transforms\n",
    "from PIL import Image\n",
    "from torchvision import models\n",
    "\n",
    "# Load a pre-trained model\n",
    "model = models.resnet50(pretrained=True)\n",
    "model = torch.nn.Sequential(*list(model.children())[:-1])  # Remove the classification layer\n",
    "model.eval()\n",
    "\n",
    "# Define a transform to preprocess the image\n",
    "preprocess = transforms.Compose([\n",
    "    transforms.Resize(256),\n",
    "    transforms.CenterCrop(224),\n",
    "    transforms.ToTensor(),\n",
    "    transforms.Normalize(mean=[0.485, 0.456, 0.406], std=[0.229, 0.224, 0.225]),\n",
    "])\n",
    "\n",
    "def extract_features(image_path):\n",
    "    image = Image.open(image_path)\n",
    "    image = preprocess(image).unsqueeze(0)  # Add batch dimension\n",
    "    with torch.no_grad():\n",
    "        features = model(image)\n",
    "    return features.squeeze().numpy()  # Remove batch dimension\n",
    "\n",
    "# Example usage\n",
    "features = extract_features('example_image.jpg')\n",
    "print(features.shape)  # Should print (2048,)\n"
   ]
  }
 ],
 "metadata": {
  "kernelspec": {
   "display_name": "Python 3",
   "language": "python",
   "name": "python3"
  },
  "language_info": {
   "codemirror_mode": {
    "name": "ipython",
    "version": 3
   },
   "file_extension": ".py",
   "mimetype": "text/x-python",
   "name": "python",
   "nbconvert_exporter": "python",
   "pygments_lexer": "ipython3",
   "version": "3.10.9"
  }
 },
 "nbformat": 4,
 "nbformat_minor": 2
}
